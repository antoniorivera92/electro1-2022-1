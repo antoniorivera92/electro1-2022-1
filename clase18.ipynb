{
 "cells": [
  {
   "cell_type": "markdown",
   "metadata": {},
   "source": [
    "# Clase 18"
   ]
  },
  {
   "cell_type": "code",
   "execution_count": 1,
   "metadata": {},
   "outputs": [],
   "source": [
    "import math"
   ]
  },
  {
   "cell_type": "markdown",
   "metadata": {},
   "source": [
    "## Solución del examen 1"
   ]
  },
  {
   "cell_type": "markdown",
   "metadata": {},
   "source": [
    "<img src=\"e01-Q1.png\" align=\"middle\" width=\"600\">"
   ]
  },
  {
   "cell_type": "markdown",
   "metadata": {},
   "source": [
    "No se pueden cumplir estas dos condiciones simultanéamente:\n",
    "* La tercera carga debe ser colineal a las dos cargas y encontrarse fuera de la línea que las une, y\n",
    "* la tercera carga debe ser equidistante a las otras dos.\n",
    "\n",
    "(Excepto, tal vez, en infinito.)"
   ]
  },
  {
   "cell_type": "markdown",
   "metadata": {},
   "source": [
    "$$ \\circledast $$"
   ]
  },
  {
   "cell_type": "markdown",
   "metadata": {},
   "source": [
    "<img src=\"e01-Q2.png\" align=\"middle\" width=\"600\">"
   ]
  },
  {
   "cell_type": "markdown",
   "metadata": {},
   "source": [
    "No existe modificación ya que la fuerza\n",
    "$$ \\vec{F}_{12}=k_e\\dfrac{q_1q_2}{r_{12}^2}\\hat{r}_{12} $$\n",
    "sólo depende de la magnitud de las cargas y la distancia que las separa. Entonces, aunque pusiéramos otras cargas, no modificaría esta interacción pero la fuerza neta sobre una de las cargas sí. Si dejamos transcurrir el tiempo y una de las cargas se mueve por interacciones con las otras tal vez cambie la distancia por lo que podría cambiar la magnitud de la fuerza $\\vec{F}_{12}$."
   ]
  },
  {
   "cell_type": "markdown",
   "metadata": {},
   "source": [
    "$$ \\circledast $$"
   ]
  },
  {
   "cell_type": "markdown",
   "metadata": {},
   "source": [
    "<img src=\"e01-Q3.png\" align=\"middle\" width=\"600\">"
   ]
  },
  {
   "cell_type": "markdown",
   "metadata": {},
   "source": [
    "No, porque seguirá la trayectoria de los vectores tangentes a la línea de campo. Sólo podría seguir la línea de campo si se tratara de un campo uniforme."
   ]
  },
  {
   "cell_type": "markdown",
   "metadata": {},
   "source": [
    "$$ \\circledast $$"
   ]
  },
  {
   "cell_type": "markdown",
   "metadata": {},
   "source": [
    "<img src=\"e01-P1.png\" align=\"middle\" width=\"600\">"
   ]
  },
  {
   "cell_type": "markdown",
   "metadata": {},
   "source": [
    "Se hizo en clase."
   ]
  },
  {
   "cell_type": "markdown",
   "metadata": {},
   "source": [
    "<img src=\"e01-P2.png\" align=\"middle\" width=\"600\">"
   ]
  },
  {
   "cell_type": "markdown",
   "metadata": {},
   "source": [
    "(b)"
   ]
  },
  {
   "cell_type": "markdown",
   "metadata": {},
   "source": [
    "$$ W=\\int_{\\vec{r}_0}^{\\vec{r}_1}\\vec{F}_\\text{externa}\\cdot d\\vec{r} $$"
   ]
  },
  {
   "cell_type": "markdown",
   "metadata": {},
   "source": [
    "\\begin{align}\n",
    "W&=\\int_\\infty^{d}(-\\vec{F})\\cdot d\\vec{r}=-\\int_\\infty^{d}\\left(k_e\\dfrac{q_1q_2}{r^2}\\hat{r}\\right)\\cdot d\\vec{r}\\\\\n",
    "&=-k_eq_1q_2\\int_\\infty^{d}\\dfrac{dr}{r^2}\\\\\n",
    "&=\\left.k_e q_1q_2\\dfrac{1}{r}\\right|_\\infty^d\\\\\n",
    "&=k_e q_1q_2\\left(\\dfrac{1}{d}-\\lim_{r\\to\\infty}\\dfrac{1}{r}\\right)\\\\\n",
    "&=k_e\\dfrac{q_1q_2}{d}<0\n",
    "\\end{align}"
   ]
  },
  {
   "cell_type": "markdown",
   "metadata": {},
   "source": [
    "$$ d=\\sqrt{(x_1-x_2)^2+(y_1-y_2)^2} $$"
   ]
  },
  {
   "cell_type": "code",
   "execution_count": 2,
   "metadata": {},
   "outputs": [
    {
     "data": {
      "text/plain": [
       "5.5901699437494745"
      ]
     },
     "execution_count": 2,
     "metadata": {},
     "output_type": "execute_result"
    }
   ],
   "source": [
    "d = math.sqrt(((3.5)-(-2.))**2+((0.5)-(1.5))**2)\n",
    "d"
   ]
  },
  {
   "cell_type": "markdown",
   "metadata": {},
   "source": [
    "$$ d\\approx5.59 \\text{cm} $$"
   ]
  },
  {
   "cell_type": "code",
   "execution_count": 3,
   "metadata": {},
   "outputs": [
    {
     "data": {
      "text/plain": [
       "-1.931962732559818"
      ]
     },
     "execution_count": 3,
     "metadata": {},
     "output_type": "execute_result"
    }
   ],
   "source": [
    "kₑ = 9e9\n",
    "q_1 = -3e-6\n",
    "q_2 = 4e-6\n",
    "kₑ*q_1*q_2/(d*1e-2)"
   ]
  },
  {
   "cell_type": "markdown",
   "metadata": {},
   "source": [
    "$$ W=-1.93\\ \\text{J} $$"
   ]
  },
  {
   "cell_type": "markdown",
   "metadata": {},
   "source": [
    "Parece que yo estaba equivocado y el profesor estaba en lo correcto: **el trabajo para acercar dos cargas de signo opuestos es negativo.** Si quieren entender esto mejor sugiero revisar los siguientes links:\n",
    "* https://physics.stackexchange.com/questions/482111/why-there-is-a-negative-sign-in-the-formula-of-calculating-work-done-in-electros\n",
    "* https://physics.stackexchange.com/questions/242170/electric-potential-of-point-charge-sign-problem\n",
    "* https://physics.stackexchange.com/questions/481126/why-the-work-done-is-positive-when-bringing-2-opposite-charges-together\n",
    "* https://www.physicsforums.com/threads/why-the-work-done-is-negative-when-bringing-2-opposite-charges-together.972183/"
   ]
  },
  {
   "cell_type": "markdown",
   "metadata": {},
   "source": [
    "<img src=\"e01-P3.png\" align=\"middle\" width=\"600\">"
   ]
  },
  {
   "cell_type": "markdown",
   "metadata": {},
   "source": [
    "<img src=\"e01-F1.png\" align=\"middle\" width=\"600\">"
   ]
  },
  {
   "cell_type": "markdown",
   "metadata": {},
   "source": [
    "$$ d\\vec{E}_+=k_e\\dfrac{dq}{R^2}(\\cos\\theta\\hat{x}-\\sin\\theta\\hat{y}) $$"
   ]
  },
  {
   "cell_type": "markdown",
   "metadata": {},
   "source": [
    "$$ d\\vec{E}_-=k_e\\dfrac{dq}{R^2}(-\\cos\\theta\\hat{x}+\\sin\\theta\\hat{y}) $$"
   ]
  },
  {
   "cell_type": "markdown",
   "metadata": {},
   "source": [
    "$$ d\\vec{E}=k_e\\dfrac{dq}{R^2}(-2\\sin\\theta\\hat{y})=k_e\\dfrac{\\lambda\\,ds}{R^2}(-2\\sin\\theta\\hat{y})=-\\hat{y}\\,2k_e\\dfrac{\\lambda\\,d\\theta}{R}\\sin\\theta $$"
   ]
  },
  {
   "cell_type": "markdown",
   "metadata": {},
   "source": [
    "$$ \\vec{E}=-\\,2k_e\\dfrac{\\lambda}{R}\\hat{y} $$"
   ]
  },
  {
   "cell_type": "markdown",
   "metadata": {},
   "source": [
    "<img src=\"e01-E1.png\" align=\"middle\" width=\"600\">"
   ]
  },
  {
   "cell_type": "markdown",
   "metadata": {},
   "source": [
    "$$ \\vec{E}(z)=-\\,2k_e\\dfrac{\\lambda R^2}{(R^2+z^2)^{3/2}}\\hat{y}=-\\dfrac{Q R}{\\pi^2\\epsilon_0(R^2+z^2)^{3/2}}\\hat{y} $$"
   ]
  },
  {
   "cell_type": "markdown",
   "metadata": {},
   "source": [
    "La fuerza sobre un pequeño dipolo en un campo no uniforme está dado por"
   ]
  },
  {
   "cell_type": "markdown",
   "metadata": {},
   "source": [
    "$$ \\vec{F}=(\\vec{p}\\cdot \\nabla)\\vec{E}=\\left(p_x\\dfrac{\\partial \\phantom{x}}{\\partial x}+p_y\\dfrac{\\partial\\phantom{y}}{\\partial y}+p_z\\dfrac{\\partial\\phantom{ z}}{\\partial z}\\right)\\vec{E} $$"
   ]
  },
  {
   "cell_type": "markdown",
   "metadata": {},
   "source": [
    "$$ \\vec{p}=\\pm p\\hat{z} $$"
   ]
  },
  {
   "cell_type": "markdown",
   "metadata": {},
   "source": [
    "$$ \\vec{F}=\\pm p\\dfrac{\\partial\\phantom{ z}}{\\partial z}\\vec{E}=\\pm\\dfrac{3QpRz}{\\pi^2\\epsilon_0(R^2+z^2)^{5/2}}\\hat{y} $$"
   ]
  },
  {
   "cell_type": "markdown",
   "metadata": {},
   "source": [
    "<img src=\"e01-E2.png\" align=\"middle\" width=\"600\">"
   ]
  },
  {
   "cell_type": "markdown",
   "metadata": {},
   "source": [
    "<img src=\"cargas_positivas.png\" align=\"middle\" width=\"300\">"
   ]
  },
  {
   "cell_type": "markdown",
   "metadata": {},
   "source": [
    "### Ángulo entre tangentes del campo eléctrico de dos cargas positivas"
   ]
  },
  {
   "cell_type": "markdown",
   "metadata": {},
   "source": [
    "Supongamos que el campo eléctrico del sistema es el de $2q$, pero en el punto $P(-a,0)$ y que la separación entre la dos cargas es $2a$. Podemos tomar coordenadas polares:"
   ]
  },
  {
   "cell_type": "markdown",
   "metadata": {},
   "source": [
    "$$ \\vec{E}(r,\\theta)=\\dfrac{2k_eq}{r^2}\\left[\\left(1+\\dfrac{1+z\\cos\\theta}{[1+2z\\cos\\theta+z^2]^{3/2}}\\right)\\hat{r}-\\dfrac{z\\sin\\theta}{[1+2z\\cos\\theta+z^2]^{3/2}}\\hat{\\theta}\\right] $$"
   ]
  },
  {
   "cell_type": "markdown",
   "metadata": {},
   "source": [
    "con $z=a/r$, donde $r$ es la distancia lejana en la que mediremos el nuevo ángulo."
   ]
  },
  {
   "cell_type": "code",
   "execution_count": 4,
   "metadata": {},
   "outputs": [],
   "source": [
    "from sympy import *"
   ]
  },
  {
   "cell_type": "markdown",
   "metadata": {},
   "source": [
    "Definimos nuestras variables:"
   ]
  },
  {
   "cell_type": "code",
   "execution_count": 5,
   "metadata": {},
   "outputs": [],
   "source": [
    "z, θ = symbols('z θ', real=True)"
   ]
  },
  {
   "cell_type": "code",
   "execution_count": 6,
   "metadata": {},
   "outputs": [],
   "source": [
    "θ1, θ2 = symbols('θ1 θ2', real=True)"
   ]
  },
  {
   "cell_type": "code",
   "execution_count": 7,
   "metadata": {},
   "outputs": [],
   "source": [
    "ϕ1 = symbols('ϕ1', real=True)"
   ]
  },
  {
   "cell_type": "code",
   "execution_count": 8,
   "metadata": {},
   "outputs": [],
   "source": [
    "ϕ2 = symbols('ϕ2', real=True)"
   ]
  },
  {
   "cell_type": "markdown",
   "metadata": {},
   "source": [
    "Como $r\\gg a$, haremos las aproximaciones $z\\ll1$ y $\\theta\\ll1$ en expansiones de Taylor."
   ]
  },
  {
   "cell_type": "markdown",
   "metadata": {},
   "source": [
    "Sea $f(z)=(1+z)^{-n}=1-nz+\\dfrac{n(n+1)}{2}z^2+\\mathcal{O}(z^3)$"
   ]
  },
  {
   "cell_type": "markdown",
   "metadata": {},
   "source": [
    "Veamos que le pasa a la expansión de Taylor de"
   ]
  },
  {
   "cell_type": "markdown",
   "metadata": {},
   "source": [
    "$$ [1+2z\\cos\\theta+z^2]^{-3/2} $$"
   ]
  },
  {
   "cell_type": "markdown",
   "metadata": {},
   "source": [
    "Entonces"
   ]
  },
  {
   "cell_type": "code",
   "execution_count": 9,
   "metadata": {},
   "outputs": [],
   "source": [
    "n_exp_den_gral = Rational(3,2)"
   ]
  },
  {
   "cell_type": "code",
   "execution_count": 10,
   "metadata": {},
   "outputs": [
    {
     "data": {
      "text/latex": [
       "$\\displaystyle \\frac{15 z^{4}}{8} + \\frac{15 z^{3} \\cos{\\left(θ \\right)}}{2} + \\frac{15 z^{2} \\cos^{2}{\\left(θ \\right)}}{2} - \\frac{3 z^{2}}{2} - 3 z \\cos{\\left(θ \\right)} + 1$"
      ],
      "text/plain": [
       "15*z**4/8 + 15*z**3*cos(θ)/2 + 15*z**2*cos(θ)**2/2 - 3*z**2/2 - 3*z*cos(θ) + 1"
      ]
     },
     "execution_count": 10,
     "metadata": {},
     "output_type": "execute_result"
    }
   ],
   "source": [
    "den_gral = 1-n_exp_den_gral*(2*z*cos(θ)+z**2)+Rational(n_exp_den_gral*(n_exp_den_gral+1),2)*(2*z*cos(θ)+z**2)**2\n",
    "expand(den_gral)"
   ]
  },
  {
   "cell_type": "markdown",
   "metadata": {},
   "source": [
    "$$ [1+2z\\cos\\theta+z^2]^{-3/2}=\\displaystyle \\frac{15 z^{4}}{8} + \\frac{15 z^{3} \\cos{\\left(θ \\right)}}{2} + \\frac{15 z^{2} \\cos^{2}{\\left(θ \\right)}}{2} - \\frac{3 z^{2}}{2} - 3 z \\cos{\\left(θ \\right)} + 1+\\mathcal{O}(z^5) $$"
   ]
  },
  {
   "cell_type": "markdown",
   "metadata": {},
   "source": [
    "Veamos que le pasa a la expansión de Taylor de"
   ]
  },
  {
   "cell_type": "markdown",
   "metadata": {},
   "source": [
    "$$ 1+\\dfrac{1+z\\cos\\theta}{[1+2z\\cos\\theta+z^2]^{3/2}} $$"
   ]
  },
  {
   "cell_type": "code",
   "execution_count": 11,
   "metadata": {},
   "outputs": [
    {
     "data": {
      "text/latex": [
       "$\\displaystyle \\frac{15 z^{5} \\cos{\\left(θ \\right)}}{8} + \\frac{15 z^{4} \\cos^{2}{\\left(θ \\right)}}{2} + \\frac{15 z^{4}}{8} + \\frac{15 z^{3} \\cos^{3}{\\left(θ \\right)}}{2} + 6 z^{3} \\cos{\\left(θ \\right)} + \\frac{9 z^{2} \\cos^{2}{\\left(θ \\right)}}{2} - \\frac{3 z^{2}}{2} - 2 z \\cos{\\left(θ \\right)} + 2$"
      ],
      "text/plain": [
       "15*z**5*cos(θ)/8 + 15*z**4*cos(θ)**2/2 + 15*z**4/8 + 15*z**3*cos(θ)**3/2 + 6*z**3*cos(θ) + 9*z**2*cos(θ)**2/2 - 3*z**2/2 - 2*z*cos(θ) + 2"
      ]
     },
     "execution_count": 11,
     "metadata": {},
     "output_type": "execute_result"
    }
   ],
   "source": [
    "1+expand((1+z*cos(θ))*expand(den_gral))"
   ]
  },
  {
   "cell_type": "code",
   "execution_count": 12,
   "metadata": {},
   "outputs": [
    {
     "data": {
      "text/latex": [
       "$\\displaystyle - \\frac{15 z^{5} θ^{2}}{16} + \\frac{15 z^{5}}{8} + \\frac{15 z^{4} θ^{4}}{8} - \\frac{15 z^{4} θ^{2}}{2} + \\frac{75 z^{4}}{8} - \\frac{15 z^{3} θ^{6}}{16} + \\frac{45 z^{3} θ^{4}}{8} - \\frac{57 z^{3} θ^{2}}{4} + \\frac{27 z^{3}}{2} + \\frac{9 z^{2} θ^{4}}{8} - \\frac{9 z^{2} θ^{2}}{2} + 3 z^{2} + z θ^{2} - 2 z + 2$"
      ],
      "text/plain": [
       "-15*z**5*θ**2/16 + 15*z**5/8 + 15*z**4*θ**4/8 - 15*z**4*θ**2/2 + 75*z**4/8 - 15*z**3*θ**6/16 + 45*z**3*θ**4/8 - 57*z**3*θ**2/4 + 27*z**3/2 + 9*z**2*θ**4/8 - 9*z**2*θ**2/2 + 3*z**2 + z*θ**2 - 2*z + 2"
      ]
     },
     "execution_count": 12,
     "metadata": {},
     "output_type": "execute_result"
    }
   ],
   "source": [
    "E_r = expand((1+expand((1+z*cos(θ))*expand(den_gral))).subs(cos(θ), 1-Rational(1,2)*θ**2))\n",
    "E_r"
   ]
  },
  {
   "cell_type": "markdown",
   "metadata": {},
   "source": [
    "y que le la expansión de Taylor de"
   ]
  },
  {
   "cell_type": "markdown",
   "metadata": {},
   "source": [
    "$$ -\\dfrac{z\\sin\\theta}{[1+2z\\cos\\theta+z^2]^{3/2}} $$"
   ]
  },
  {
   "cell_type": "markdown",
   "metadata": {},
   "source": [
    "es"
   ]
  },
  {
   "cell_type": "code",
   "execution_count": 13,
   "metadata": {},
   "outputs": [
    {
     "data": {
      "text/latex": [
       "$\\displaystyle - \\frac{15 z^{5} \\sin{\\left(θ \\right)}}{8} - \\frac{15 z^{4} \\sin{\\left(θ \\right)} \\cos{\\left(θ \\right)}}{2} - \\frac{15 z^{3} \\sin{\\left(θ \\right)} \\cos^{2}{\\left(θ \\right)}}{2} + \\frac{3 z^{3} \\sin{\\left(θ \\right)}}{2} + 3 z^{2} \\sin{\\left(θ \\right)} \\cos{\\left(θ \\right)} - z \\sin{\\left(θ \\right)}$"
      ],
      "text/plain": [
       "-15*z**5*sin(θ)/8 - 15*z**4*sin(θ)*cos(θ)/2 - 15*z**3*sin(θ)*cos(θ)**2/2 + 3*z**3*sin(θ)/2 + 3*z**2*sin(θ)*cos(θ) - z*sin(θ)"
      ]
     },
     "execution_count": 13,
     "metadata": {},
     "output_type": "execute_result"
    }
   ],
   "source": [
    "expand(-z*sin(θ)*expand(den_gral))"
   ]
  },
  {
   "cell_type": "code",
   "execution_count": 14,
   "metadata": {},
   "outputs": [
    {
     "data": {
      "text/latex": [
       "$\\displaystyle - \\frac{15 z^{5} θ}{8} + \\frac{15 z^{4} θ^{3}}{4} - \\frac{15 z^{4} θ}{2} - \\frac{15 z^{3} θ^{5}}{8} + \\frac{15 z^{3} θ^{3}}{2} - 6 z^{3} θ - \\frac{3 z^{2} θ^{3}}{2} + 3 z^{2} θ - z θ$"
      ],
      "text/plain": [
       "-15*z**5*θ/8 + 15*z**4*θ**3/4 - 15*z**4*θ/2 - 15*z**3*θ**5/8 + 15*z**3*θ**3/2 - 6*z**3*θ - 3*z**2*θ**3/2 + 3*z**2*θ - z*θ"
      ]
     },
     "execution_count": 14,
     "metadata": {},
     "output_type": "execute_result"
    }
   ],
   "source": [
    "E_θ = expand((expand(-z*sin(θ)*expand(den_gral))).subs([(sin(θ), θ), (cos(θ), 1-Rational(1,2)*θ**2)]))\n",
    "E_θ"
   ]
  },
  {
   "cell_type": "markdown",
   "metadata": {},
   "source": [
    "Entonces el vector $\\vec{E}$ en componentes es"
   ]
  },
  {
   "cell_type": "code",
   "execution_count": 15,
   "metadata": {},
   "outputs": [
    {
     "data": {
      "text/latex": [
       "$\\displaystyle \\left[\\begin{matrix}- \\frac{15 z^{5} θ^{2}}{16} + \\frac{15 z^{5}}{8} + \\frac{15 z^{4} θ^{4}}{8} - \\frac{15 z^{4} θ^{2}}{2} + \\frac{75 z^{4}}{8} - \\frac{15 z^{3} θ^{6}}{16} + \\frac{45 z^{3} θ^{4}}{8} - \\frac{57 z^{3} θ^{2}}{4} + \\frac{27 z^{3}}{2} + \\frac{9 z^{2} θ^{4}}{8} - \\frac{9 z^{2} θ^{2}}{2} + 3 z^{2} + z θ^{2} - 2 z + 2\\\\- \\frac{15 z^{5} θ}{8} + \\frac{15 z^{4} θ^{3}}{4} - \\frac{15 z^{4} θ}{2} - \\frac{15 z^{3} θ^{5}}{8} + \\frac{15 z^{3} θ^{3}}{2} - 6 z^{3} θ - \\frac{3 z^{2} θ^{3}}{2} + 3 z^{2} θ - z θ\\end{matrix}\\right]$"
      ],
      "text/plain": [
       "Matrix([\n",
       "[-15*z**5*θ**2/16 + 15*z**5/8 + 15*z**4*θ**4/8 - 15*z**4*θ**2/2 + 75*z**4/8 - 15*z**3*θ**6/16 + 45*z**3*θ**4/8 - 57*z**3*θ**2/4 + 27*z**3/2 + 9*z**2*θ**4/8 - 9*z**2*θ**2/2 + 3*z**2 + z*θ**2 - 2*z + 2],\n",
       "[                                                                             -15*z**5*θ/8 + 15*z**4*θ**3/4 - 15*z**4*θ/2 - 15*z**3*θ**5/8 + 15*z**3*θ**3/2 - 6*z**3*θ - 3*z**2*θ**3/2 + 3*z**2*θ - z*θ]])"
      ]
     },
     "execution_count": 15,
     "metadata": {},
     "output_type": "execute_result"
    }
   ],
   "source": [
    "E = Matrix([[E_r], [E_θ]])\n",
    "E"
   ]
  },
  {
   "cell_type": "markdown",
   "metadata": {},
   "source": [
    "$$ \\circledast $$"
   ]
  },
  {
   "cell_type": "code",
   "execution_count": 16,
   "metadata": {},
   "outputs": [
    {
     "data": {
      "text/latex": [
       "$\\displaystyle \\frac{225 z^{10} θ^{4}}{1024} + \\frac{225 z^{10}}{256} - \\frac{225 z^{9} θ^{6}}{256} + \\frac{225 z^{9} θ^{4}}{128} - \\frac{1125 z^{9} θ^{2}}{256} + \\frac{1125 z^{9}}{128} + \\frac{675 z^{8} θ^{8}}{512} - \\frac{675 z^{8} θ^{6}}{128} + \\frac{1755 z^{8} θ^{4}}{128} - \\frac{1125 z^{8} θ^{2}}{32} + \\frac{8865 z^{8}}{256} - \\frac{225 z^{7} θ^{10}}{256} + \\frac{675 z^{7} θ^{8}}{128} - \\frac{585 z^{7} θ^{6}}{32} + \\frac{1845 z^{7} θ^{4}}{32} - \\frac{6615 z^{7} θ^{2}}{64} + \\frac{2115 z^{7}}{32} + \\frac{225 z^{6} θ^{12}}{1024} - \\frac{225 z^{6} θ^{10}}{128} + \\frac{2205 z^{6} θ^{8}}{256} - \\frac{1215 z^{6} θ^{6}}{32} + \\frac{13053 z^{6} θ^{4}}{128} - \\frac{4095 z^{6} θ^{2}}{32} + \\frac{231 z^{6}}{4} - \\frac{135 z^{5} θ^{10}}{256} + \\frac{855 z^{5} θ^{8}}{128} - \\frac{1893 z^{5} θ^{6}}{64} + \\frac{1803 z^{5} θ^{4}}{32} - \\frac{183 z^{5} θ^{2}}{4} + \\frac{51 z^{5}}{4} - \\frac{39 z^{4} θ^{8}}{256} + \\frac{87 z^{4} θ^{6}}{32} - \\frac{81 z^{4} θ^{4}}{8} + 12 z^{4} θ^{2} - \\frac{15 z^{4}}{8} - \\frac{3 z^{3} θ^{6}}{8} + 3 z^{3} θ^{4} - \\frac{39 z^{3} θ^{2}}{4} + \\frac{21 z^{3}}{2} + \\frac{11 z^{2} θ^{4}}{8} - \\frac{21 z^{2} θ^{2}}{4} + 4 z^{2} + z θ^{2} - 2 z + 1$"
      ],
      "text/plain": [
       "225*z**10*θ**4/1024 + 225*z**10/256 - 225*z**9*θ**6/256 + 225*z**9*θ**4/128 - 1125*z**9*θ**2/256 + 1125*z**9/128 + 675*z**8*θ**8/512 - 675*z**8*θ**6/128 + 1755*z**8*θ**4/128 - 1125*z**8*θ**2/32 + 8865*z**8/256 - 225*z**7*θ**10/256 + 675*z**7*θ**8/128 - 585*z**7*θ**6/32 + 1845*z**7*θ**4/32 - 6615*z**7*θ**2/64 + 2115*z**7/32 + 225*z**6*θ**12/1024 - 225*z**6*θ**10/128 + 2205*z**6*θ**8/256 - 1215*z**6*θ**6/32 + 13053*z**6*θ**4/128 - 4095*z**6*θ**2/32 + 231*z**6/4 - 135*z**5*θ**10/256 + 855*z**5*θ**8/128 - 1893*z**5*θ**6/64 + 1803*z**5*θ**4/32 - 183*z**5*θ**2/4 + 51*z**5/4 - 39*z**4*θ**8/256 + 87*z**4*θ**6/32 - 81*z**4*θ**4/8 + 12*z**4*θ**2 - 15*z**4/8 - 3*z**3*θ**6/8 + 3*z**3*θ**4 - 39*z**3*θ**2/4 + 21*z**3/2 + 11*z**2*θ**4/8 - 21*z**2*θ**2/4 + 4*z**2 + z*θ**2 - 2*z + 1"
      ]
     },
     "execution_count": 16,
     "metadata": {},
     "output_type": "execute_result"
    }
   ],
   "source": [
    "termino_expansion_taylor_norma = expand((Transpose(E)*E)[0])/4\n",
    "termino_expansion_taylor_norma"
   ]
  },
  {
   "cell_type": "code",
   "execution_count": 17,
   "metadata": {},
   "outputs": [
    {
     "data": {
      "text/latex": [
       "$\\displaystyle z^{2} \\left(\\frac{11 θ^{4}}{8} - \\frac{21 θ^{2}}{4} + 4\\right) + z \\left(θ^{2} - 2\\right)$"
      ],
      "text/plain": [
       "z**2*(11*θ**4/8 - 21*θ**2/4 + 4) + z*(θ**2 - 2)"
      ]
     },
     "execution_count": 17,
     "metadata": {},
     "output_type": "execute_result"
    }
   ],
   "source": [
    "termino_expansion_taylor_norma_corte = (termino_expansion_taylor_norma.coeff(z))*z + (termino_expansion_taylor_norma.coeff(z**2))*z**2\n",
    "termino_expansion_taylor_norma_corte"
   ]
  },
  {
   "cell_type": "code",
   "execution_count": 18,
   "metadata": {},
   "outputs": [],
   "source": [
    "n_exp_den_norma = Rational(1,2)"
   ]
  },
  {
   "cell_type": "code",
   "execution_count": 19,
   "metadata": {},
   "outputs": [
    {
     "data": {
      "text/latex": [
       "$\\displaystyle \\frac{363 z^{4} θ^{8}}{1024} - \\frac{693 z^{4} θ^{6}}{256} + \\frac{1851 z^{4} θ^{4}}{256} - \\frac{63 z^{4} θ^{2}}{8} + 3 z^{4} + \\frac{33 z^{3} θ^{6}}{64} - 3 z^{3} θ^{4} + \\frac{87 z^{3} θ^{2}}{16} - 3 z^{3} - \\frac{5 z^{2} θ^{4}}{32} + \\frac{9 z^{2} θ^{2}}{16} - \\frac{z^{2}}{4} - \\frac{z θ^{2}}{4} + \\frac{z}{2} + \\frac{1}{2}$"
      ],
      "text/plain": [
       "363*z**4*θ**8/1024 - 693*z**4*θ**6/256 + 1851*z**4*θ**4/256 - 63*z**4*θ**2/8 + 3*z**4 + 33*z**3*θ**6/64 - 3*z**3*θ**4 + 87*z**3*θ**2/16 - 3*z**3 - 5*z**2*θ**4/32 + 9*z**2*θ**2/16 - z**2/4 - z*θ**2/4 + z/2 + 1/2"
      ]
     },
     "execution_count": 19,
     "metadata": {},
     "output_type": "execute_result"
    }
   ],
   "source": [
    "expansion_taylor_norma = Rational(1,2)*expand(1-n_exp_den_norma*termino_expansion_taylor_norma_corte+Rational(n_exp_den_norma*(n_exp_den_norma+1),2)*termino_expansion_taylor_norma_corte**2)\n",
    "expansion_taylor_norma"
   ]
  },
  {
   "cell_type": "code",
   "execution_count": 20,
   "metadata": {},
   "outputs": [
    {
     "data": {
      "text/latex": [
       "$\\displaystyle z^{2} \\left(- \\frac{5 θ^{4}}{32} + \\frac{9 θ^{2}}{16} - \\frac{1}{4}\\right) + z \\left(\\frac{1}{2} - \\frac{θ^{2}}{4}\\right) + \\frac{1}{2}$"
      ],
      "text/plain": [
       "z**2*(-5*θ**4/32 + 9*θ**2/16 - 1/4) + z*(1/2 - θ**2/4) + 1/2"
      ]
     },
     "execution_count": 20,
     "metadata": {},
     "output_type": "execute_result"
    }
   ],
   "source": [
    "expansion_taylor_norma_corte = Rational(1,2) + (expansion_taylor_norma.coeff(z))*z + (expansion_taylor_norma.coeff(z**2))*z**2\n",
    "expansion_taylor_norma_corte"
   ]
  },
  {
   "cell_type": "code",
   "execution_count": 21,
   "metadata": {},
   "outputs": [],
   "source": [
    "norma_E_1 = expansion_taylor_norma_corte.subs(θ, θ1)\n",
    "norma_E_2 = expansion_taylor_norma_corte.subs(θ, θ2)"
   ]
  },
  {
   "cell_type": "code",
   "execution_count": 22,
   "metadata": {},
   "outputs": [
    {
     "data": {
      "text/latex": [
       "$\\displaystyle \\frac{225 z^{10} θ1^{2} θ2^{2}}{256} - \\frac{225 z^{10} θ1^{2}}{128} + \\frac{225 z^{10} θ1 θ2}{64} - \\frac{225 z^{10} θ2^{2}}{128} + \\frac{225 z^{10}}{64} - \\frac{225 z^{9} θ1^{4} θ2^{2}}{128} + \\frac{225 z^{9} θ1^{4}}{64} - \\frac{225 z^{9} θ1^{3} θ2}{32} - \\frac{225 z^{9} θ1^{2} θ2^{4}}{128} + \\frac{225 z^{9} θ1^{2} θ2^{2}}{16} - \\frac{2925 z^{9} θ1^{2}}{128} - \\frac{225 z^{9} θ1 θ2^{3}}{32} + \\frac{225 z^{9} θ1 θ2}{8} + \\frac{225 z^{9} θ2^{4}}{64} - \\frac{2925 z^{9} θ2^{2}}{128} + \\frac{1125 z^{9}}{32} + \\frac{225 z^{8} θ1^{6} θ2^{2}}{256} - \\frac{225 z^{8} θ1^{6}}{128} + \\frac{225 z^{8} θ1^{5} θ2}{64} + \\frac{225 z^{8} θ1^{4} θ2^{4}}{64} - \\frac{2475 z^{8} θ1^{4} θ2^{2}}{128} + \\frac{225 z^{8} θ1^{4}}{8} + \\frac{225 z^{8} θ1^{3} θ2^{3}}{16} - \\frac{675 z^{8} θ1^{3} θ2}{16} + \\frac{225 z^{8} θ1^{2} θ2^{6}}{256} - \\frac{2475 z^{8} θ1^{2} θ2^{4}}{128} + \\frac{2655 z^{8} θ1^{2} θ2^{2}}{32} - \\frac{1755 z^{8} θ1^{2}}{16} + \\frac{225 z^{8} θ1 θ2^{5}}{64} - \\frac{675 z^{8} θ1 θ2^{3}}{16} + \\frac{315 z^{8} θ1 θ2}{4} - \\frac{225 z^{8} θ2^{6}}{128} + \\frac{225 z^{8} θ2^{4}}{8} - \\frac{1755 z^{8} θ2^{2}}{16} + \\frac{8865 z^{8}}{64} - \\frac{225 z^{7} θ1^{6} θ2^{4}}{128} + \\frac{225 z^{7} θ1^{6} θ2^{2}}{32} - \\frac{1125 z^{7} θ1^{6}}{128} - \\frac{225 z^{7} θ1^{5} θ2^{3}}{32} + \\frac{225 z^{7} θ1^{5} θ2}{16} - \\frac{225 z^{7} θ1^{4} θ2^{6}}{128} + \\frac{675 z^{7} θ1^{4} θ2^{4}}{32} - \\frac{8955 z^{7} θ1^{4} θ2^{2}}{128} + \\frac{2565 z^{7} θ1^{4}}{32} - \\frac{225 z^{7} θ1^{3} θ2^{5}}{32} + \\frac{225 z^{7} θ1^{3} θ2^{3}}{4} - \\frac{1215 z^{7} θ1^{3} θ2}{16} + \\frac{225 z^{7} θ1^{2} θ2^{6}}{32} - \\frac{8955 z^{7} θ1^{2} θ2^{4}}{128} + \\frac{3555 z^{7} θ1^{2} θ2^{2}}{16} - \\frac{7875 z^{7} θ1^{2}}{32} + \\frac{225 z^{7} θ1 θ2^{5}}{16} - \\frac{1215 z^{7} θ1 θ2^{3}}{16} + \\frac{315 z^{7} θ1 θ2}{4} - \\frac{1125 z^{7} θ2^{6}}{128} + \\frac{2565 z^{7} θ2^{4}}{32} - \\frac{7875 z^{7} θ2^{2}}{32} + \\frac{2115 z^{7}}{8} + \\frac{225 z^{6} θ1^{6} θ2^{6}}{256} - \\frac{675 z^{6} θ1^{6} θ2^{4}}{128} + \\frac{855 z^{6} θ1^{6} θ2^{2}}{64} - \\frac{405 z^{6} θ1^{6}}{32} + \\frac{225 z^{6} θ1^{5} θ2^{5}}{64} - \\frac{225 z^{6} θ1^{5} θ2^{3}}{16} + \\frac{45 z^{6} θ1^{5} θ2}{4} - \\frac{675 z^{6} θ1^{4} θ2^{6}}{128} + \\frac{2295 z^{6} θ1^{4} θ2^{4}}{64} - \\frac{3105 z^{6} θ1^{4} θ2^{2}}{32} + \\frac{5895 z^{6} θ1^{4}}{64} - \\frac{225 z^{6} θ1^{3} θ2^{5}}{16} + 45 z^{6} θ1^{3} θ2^{3} - \\frac{45 z^{6} θ1^{3} θ2}{2} + \\frac{855 z^{6} θ1^{2} θ2^{6}}{64} - \\frac{3105 z^{6} θ1^{2} θ2^{4}}{32} + \\frac{4299 z^{6} θ1^{2} θ2^{2}}{16} - \\frac{4053 z^{6} θ1^{2}}{16} + \\frac{45 z^{6} θ1 θ2^{5}}{4} - \\frac{45 z^{6} θ1 θ2^{3}}{2} - \\frac{21 z^{6} θ1 θ2}{4} - \\frac{405 z^{6} θ2^{6}}{32} + \\frac{5895 z^{6} θ2^{4}}{64} - \\frac{4053 z^{6} θ2^{2}}{16} + 231 z^{6} - \\frac{135 z^{5} θ1^{6} θ2^{4}}{128} + \\frac{135 z^{5} θ1^{6} θ2^{2}}{32} - \\frac{45 z^{5} θ1^{6}}{16} + \\frac{45 z^{5} θ1^{5} θ2^{3}}{16} - \\frac{45 z^{5} θ1^{5} θ2}{8} - \\frac{135 z^{5} θ1^{4} θ2^{6}}{128} + \\frac{405 z^{5} θ1^{4} θ2^{4}}{32} - \\frac{1263 z^{5} θ1^{4} θ2^{2}}{32} + \\frac{453 z^{5} θ1^{4}}{16} + \\frac{45 z^{5} θ1^{3} θ2^{5}}{16} - \\frac{45 z^{5} θ1^{3} θ2^{3}}{2} + \\frac{111 z^{5} θ1^{3} θ2}{4} + \\frac{135 z^{5} θ1^{2} θ2^{6}}{32} - \\frac{1263 z^{5} θ1^{2} θ2^{4}}{32} + \\frac{453 z^{5} θ1^{2} θ2^{2}}{4} - 81 z^{5} θ1^{2} - \\frac{45 z^{5} θ1 θ2^{5}}{8} + \\frac{111 z^{5} θ1 θ2^{3}}{4} - 21 z^{5} θ1 θ2 - \\frac{45 z^{5} θ2^{6}}{16} + \\frac{453 z^{5} θ2^{4}}{16} - 81 z^{5} θ2^{2} + 51 z^{5} - \\frac{15 z^{4} θ1^{6} θ2^{2}}{16} + \\frac{15 z^{4} θ1^{6}}{8} + \\frac{15 z^{4} θ1^{5} θ2}{8} + \\frac{81 z^{4} θ1^{4} θ2^{4}}{64} + \\frac{9 z^{4} θ1^{4} θ2^{2}}{16} - \\frac{33 z^{4} θ1^{4}}{8} + \\frac{9 z^{4} θ1^{3} θ2^{3}}{4} - 12 z^{4} θ1^{3} θ2 - \\frac{15 z^{4} θ1^{2} θ2^{6}}{16} + \\frac{9 z^{4} θ1^{2} θ2^{4}}{16} - \\frac{33 z^{4} θ1^{2} θ2^{2}}{4} + \\frac{27 z^{4} θ1^{2}}{2} + \\frac{15 z^{4} θ1 θ2^{5}}{8} - 12 z^{4} θ1 θ2^{3} + 21 z^{4} θ1 θ2 + \\frac{15 z^{4} θ2^{6}}{8} - \\frac{33 z^{4} θ2^{4}}{8} + \\frac{27 z^{4} θ2^{2}}{2} - \\frac{15 z^{4}}{2} - \\frac{15 z^{3} θ1^{6}}{8} + \\frac{9 z^{3} θ1^{4} θ2^{2}}{8} + 9 z^{3} θ1^{4} + \\frac{3 z^{3} θ1^{3} θ2}{2} + \\frac{9 z^{3} θ1^{2} θ2^{4}}{8} - 9 z^{3} θ1^{2} θ2^{2} - \\frac{33 z^{3} θ1^{2}}{2} + \\frac{3 z^{3} θ1 θ2^{3}}{2} - 6 z^{3} θ1 θ2 - \\frac{15 z^{3} θ2^{6}}{8} + 9 z^{3} θ2^{4} - \\frac{33 z^{3} θ2^{2}}{2} + 42 z^{3} + \\frac{9 z^{2} θ1^{4}}{4} + z^{2} θ1^{2} θ2^{2} - 11 z^{2} θ1^{2} + z^{2} θ1 θ2 + \\frac{9 z^{2} θ2^{4}}{4} - 11 z^{2} θ2^{2} + 16 z^{2} + 2 z θ1^{2} + 2 z θ2^{2} - 8 z + 4$"
      ],
      "text/plain": [
       "225*z**10*θ1**2*θ2**2/256 - 225*z**10*θ1**2/128 + 225*z**10*θ1*θ2/64 - 225*z**10*θ2**2/128 + 225*z**10/64 - 225*z**9*θ1**4*θ2**2/128 + 225*z**9*θ1**4/64 - 225*z**9*θ1**3*θ2/32 - 225*z**9*θ1**2*θ2**4/128 + 225*z**9*θ1**2*θ2**2/16 - 2925*z**9*θ1**2/128 - 225*z**9*θ1*θ2**3/32 + 225*z**9*θ1*θ2/8 + 225*z**9*θ2**4/64 - 2925*z**9*θ2**2/128 + 1125*z**9/32 + 225*z**8*θ1**6*θ2**2/256 - 225*z**8*θ1**6/128 + 225*z**8*θ1**5*θ2/64 + 225*z**8*θ1**4*θ2**4/64 - 2475*z**8*θ1**4*θ2**2/128 + 225*z**8*θ1**4/8 + 225*z**8*θ1**3*θ2**3/16 - 675*z**8*θ1**3*θ2/16 + 225*z**8*θ1**2*θ2**6/256 - 2475*z**8*θ1**2*θ2**4/128 + 2655*z**8*θ1**2*θ2**2/32 - 1755*z**8*θ1**2/16 + 225*z**8*θ1*θ2**5/64 - 675*z**8*θ1*θ2**3/16 + 315*z**8*θ1*θ2/4 - 225*z**8*θ2**6/128 + 225*z**8*θ2**4/8 - 1755*z**8*θ2**2/16 + 8865*z**8/64 - 225*z**7*θ1**6*θ2**4/128 + 225*z**7*θ1**6*θ2**2/32 - 1125*z**7*θ1**6/128 - 225*z**7*θ1**5*θ2**3/32 + 225*z**7*θ1**5*θ2/16 - 225*z**7*θ1**4*θ2**6/128 + 675*z**7*θ1**4*θ2**4/32 - 8955*z**7*θ1**4*θ2**2/128 + 2565*z**7*θ1**4/32 - 225*z**7*θ1**3*θ2**5/32 + 225*z**7*θ1**3*θ2**3/4 - 1215*z**7*θ1**3*θ2/16 + 225*z**7*θ1**2*θ2**6/32 - 8955*z**7*θ1**2*θ2**4/128 + 3555*z**7*θ1**2*θ2**2/16 - 7875*z**7*θ1**2/32 + 225*z**7*θ1*θ2**5/16 - 1215*z**7*θ1*θ2**3/16 + 315*z**7*θ1*θ2/4 - 1125*z**7*θ2**6/128 + 2565*z**7*θ2**4/32 - 7875*z**7*θ2**2/32 + 2115*z**7/8 + 225*z**6*θ1**6*θ2**6/256 - 675*z**6*θ1**6*θ2**4/128 + 855*z**6*θ1**6*θ2**2/64 - 405*z**6*θ1**6/32 + 225*z**6*θ1**5*θ2**5/64 - 225*z**6*θ1**5*θ2**3/16 + 45*z**6*θ1**5*θ2/4 - 675*z**6*θ1**4*θ2**6/128 + 2295*z**6*θ1**4*θ2**4/64 - 3105*z**6*θ1**4*θ2**2/32 + 5895*z**6*θ1**4/64 - 225*z**6*θ1**3*θ2**5/16 + 45*z**6*θ1**3*θ2**3 - 45*z**6*θ1**3*θ2/2 + 855*z**6*θ1**2*θ2**6/64 - 3105*z**6*θ1**2*θ2**4/32 + 4299*z**6*θ1**2*θ2**2/16 - 4053*z**6*θ1**2/16 + 45*z**6*θ1*θ2**5/4 - 45*z**6*θ1*θ2**3/2 - 21*z**6*θ1*θ2/4 - 405*z**6*θ2**6/32 + 5895*z**6*θ2**4/64 - 4053*z**6*θ2**2/16 + 231*z**6 - 135*z**5*θ1**6*θ2**4/128 + 135*z**5*θ1**6*θ2**2/32 - 45*z**5*θ1**6/16 + 45*z**5*θ1**5*θ2**3/16 - 45*z**5*θ1**5*θ2/8 - 135*z**5*θ1**4*θ2**6/128 + 405*z**5*θ1**4*θ2**4/32 - 1263*z**5*θ1**4*θ2**2/32 + 453*z**5*θ1**4/16 + 45*z**5*θ1**3*θ2**5/16 - 45*z**5*θ1**3*θ2**3/2 + 111*z**5*θ1**3*θ2/4 + 135*z**5*θ1**2*θ2**6/32 - 1263*z**5*θ1**2*θ2**4/32 + 453*z**5*θ1**2*θ2**2/4 - 81*z**5*θ1**2 - 45*z**5*θ1*θ2**5/8 + 111*z**5*θ1*θ2**3/4 - 21*z**5*θ1*θ2 - 45*z**5*θ2**6/16 + 453*z**5*θ2**4/16 - 81*z**5*θ2**2 + 51*z**5 - 15*z**4*θ1**6*θ2**2/16 + 15*z**4*θ1**6/8 + 15*z**4*θ1**5*θ2/8 + 81*z**4*θ1**4*θ2**4/64 + 9*z**4*θ1**4*θ2**2/16 - 33*z**4*θ1**4/8 + 9*z**4*θ1**3*θ2**3/4 - 12*z**4*θ1**3*θ2 - 15*z**4*θ1**2*θ2**6/16 + 9*z**4*θ1**2*θ2**4/16 - 33*z**4*θ1**2*θ2**2/4 + 27*z**4*θ1**2/2 + 15*z**4*θ1*θ2**5/8 - 12*z**4*θ1*θ2**3 + 21*z**4*θ1*θ2 + 15*z**4*θ2**6/8 - 33*z**4*θ2**4/8 + 27*z**4*θ2**2/2 - 15*z**4/2 - 15*z**3*θ1**6/8 + 9*z**3*θ1**4*θ2**2/8 + 9*z**3*θ1**4 + 3*z**3*θ1**3*θ2/2 + 9*z**3*θ1**2*θ2**4/8 - 9*z**3*θ1**2*θ2**2 - 33*z**3*θ1**2/2 + 3*z**3*θ1*θ2**3/2 - 6*z**3*θ1*θ2 - 15*z**3*θ2**6/8 + 9*z**3*θ2**4 - 33*z**3*θ2**2/2 + 42*z**3 + 9*z**2*θ1**4/4 + z**2*θ1**2*θ2**2 - 11*z**2*θ1**2 + z**2*θ1*θ2 + 9*z**2*θ2**4/4 - 11*z**2*θ2**2 + 16*z**2 + 2*z*θ1**2 + 2*z*θ2**2 - 8*z + 4"
      ]
     },
     "execution_count": 22,
     "metadata": {},
     "output_type": "execute_result"
    }
   ],
   "source": [
    "E_1 = E.subs(θ, θ1)\n",
    "E_2 = E.subs(θ, θ2)\n",
    "prod_punto_12 = expand((Transpose(E_1)*E_2)[0])\n",
    "prod_punto_12"
   ]
  },
  {
   "cell_type": "code",
   "execution_count": 23,
   "metadata": {},
   "outputs": [
    {
     "data": {
      "text/latex": [
       "$\\displaystyle z^{2} \\left(\\frac{9 θ1^{4}}{4} + θ1^{2} θ2^{2} - 11 θ1^{2} + θ1 θ2 + \\frac{9 θ2^{4}}{4} - 11 θ2^{2} + 16\\right) + z \\left(2 θ1^{2} + 2 θ2^{2} - 8\\right) + 4$"
      ],
      "text/plain": [
       "z**2*(9*θ1**4/4 + θ1**2*θ2**2 - 11*θ1**2 + θ1*θ2 + 9*θ2**4/4 - 11*θ2**2 + 16) + z*(2*θ1**2 + 2*θ2**2 - 8) + 4"
      ]
     },
     "execution_count": 23,
     "metadata": {},
     "output_type": "execute_result"
    }
   ],
   "source": [
    "prod_punto_12_corte = 4 + (prod_punto_12.coeff(z))*z + (prod_punto_12.coeff(z**2))*z**2\n",
    "prod_punto_12_corte"
   ]
  },
  {
   "cell_type": "code",
   "execution_count": 24,
   "metadata": {},
   "outputs": [
    {
     "data": {
      "text/latex": [
       "$\\displaystyle \\frac{225 z^{6} θ1^{8} θ2^{4}}{4096} - \\frac{405 z^{6} θ1^{8} θ2^{2}}{2048} + \\frac{45 z^{6} θ1^{8}}{512} + \\frac{25 z^{6} θ1^{6} θ2^{6}}{1024} - \\frac{1135 z^{6} θ1^{6} θ2^{4}}{2048} + \\frac{1759 z^{6} θ1^{6} θ2^{2}}{1024} - \\frac{191 z^{6} θ1^{6}}{256} + \\frac{25 z^{6} θ1^{5} θ2^{5}}{1024} - \\frac{45 z^{6} θ1^{5} θ2^{3}}{512} + \\frac{5 z^{6} θ1^{5} θ2}{128} + \\frac{225 z^{6} θ1^{4} θ2^{8}}{4096} - \\frac{1135 z^{6} θ1^{4} θ2^{6}}{2048} + \\frac{721 z^{6} θ1^{4} θ2^{4}}{256} - \\frac{739 z^{6} θ1^{4} θ2^{2}}{128} + \\frac{37 z^{6} θ1^{4}}{16} - \\frac{45 z^{6} θ1^{3} θ2^{5}}{512} + \\frac{81 z^{6} θ1^{3} θ2^{3}}{256} - \\frac{9 z^{6} θ1^{3} θ2}{64} - \\frac{405 z^{6} θ1^{2} θ2^{8}}{2048} + \\frac{1759 z^{6} θ1^{2} θ2^{6}}{1024} - \\frac{739 z^{6} θ1^{2} θ2^{4}}{128} + \\frac{263 z^{6} θ1^{2} θ2^{2}}{32} - \\frac{47 z^{6} θ1^{2}}{16} + \\frac{5 z^{6} θ1 θ2^{5}}{128} - \\frac{9 z^{6} θ1 θ2^{3}}{64} + \\frac{z^{6} θ1 θ2}{16} + \\frac{45 z^{6} θ2^{8}}{512} - \\frac{191 z^{6} θ2^{6}}{256} + \\frac{37 z^{6} θ2^{4}}{16} - \\frac{47 z^{6} θ2^{2}}{16} + z^{6} + \\frac{45 z^{5} θ1^{8} θ2^{2}}{512} - \\frac{45 z^{5} θ1^{8}}{256} + \\frac{45 z^{5} θ1^{6} θ2^{4}}{256} - \\frac{337 z^{5} θ1^{6} θ2^{2}}{256} + \\frac{219 z^{5} θ1^{6}}{128} + \\frac{5 z^{5} θ1^{5} θ2^{3}}{128} - \\frac{5 z^{5} θ1^{5} θ2}{64} + \\frac{45 z^{5} θ1^{4} θ2^{6}}{256} - \\frac{261 z^{5} θ1^{4} θ2^{4}}{128} + \\frac{455 z^{5} θ1^{4} θ2^{2}}{64} - \\frac{99 z^{5} θ1^{4}}{16} + \\frac{5 z^{5} θ1^{3} θ2^{5}}{128} - \\frac{9 z^{5} θ1^{3} θ2^{3}}{32} + \\frac{11 z^{5} θ1^{3} θ2}{32} + \\frac{45 z^{5} θ1^{2} θ2^{8}}{512} - \\frac{337 z^{5} θ1^{2} θ2^{6}}{256} + \\frac{455 z^{5} θ1^{2} θ2^{4}}{64} - \\frac{493 z^{5} θ1^{2} θ2^{2}}{32} + \\frac{19 z^{5} θ1^{2}}{2} - \\frac{5 z^{5} θ1 θ2^{5}}{64} + \\frac{11 z^{5} θ1 θ2^{3}}{32} - \\frac{z^{5} θ1 θ2}{4} - \\frac{45 z^{5} θ2^{8}}{256} + \\frac{219 z^{5} θ2^{6}}{128} - \\frac{99 z^{5} θ2^{4}}{16} + \\frac{19 z^{5} θ2^{2}}{2} - \\frac{9 z^{5}}{2} - \\frac{45 z^{4} θ1^{8}}{256} + \\frac{9 z^{4} θ1^{6} θ2^{2}}{64} + \\frac{135 z^{4} θ1^{6}}{128} - \\frac{5 z^{4} θ1^{5} θ2}{64} - \\frac{9 z^{4} θ1^{4} θ2^{4}}{256} - \\frac{45 z^{4} θ1^{4} θ2^{2}}{64} - \\frac{3 z^{4} θ1^{4}}{2} + \\frac{z^{4} θ1^{3} θ2^{3}}{16} + \\frac{5 z^{4} θ1^{3} θ2}{32} + \\frac{9 z^{4} θ1^{2} θ2^{6}}{64} - \\frac{45 z^{4} θ1^{2} θ2^{4}}{64} + \\frac{157 z^{4} θ1^{2} θ2^{2}}{64} - \\frac{21 z^{4} θ1^{2}}{16} - \\frac{5 z^{4} θ1 θ2^{5}}{64} + \\frac{5 z^{4} θ1 θ2^{3}}{32} - \\frac{45 z^{4} θ2^{8}}{256} + \\frac{135 z^{4} θ2^{6}}{128} - \\frac{3 z^{4} θ2^{4}}{2} - \\frac{21 z^{4} θ2^{2}}{16} + \\frac{9 z^{4}}{4} - \\frac{7 z^{3} θ1^{6}}{16} - \\frac{9 z^{3} θ1^{4} θ2^{2}}{32} + \\frac{25 z^{3} θ1^{4}}{8} - \\frac{z^{3} θ1^{3} θ2}{8} - \\frac{9 z^{3} θ1^{2} θ2^{4}}{32} + \\frac{9 z^{3} θ1^{2} θ2^{2}}{4} - \\frac{59 z^{3} θ1^{2}}{8} - \\frac{z^{3} θ1 θ2^{3}}{8} + \\frac{z^{3} θ1 θ2}{2} - \\frac{7 z^{3} θ2^{6}}{16} + \\frac{25 z^{3} θ2^{4}}{8} - \\frac{59 z^{3} θ2^{2}}{8} + 7 z^{3} - \\frac{z^{2} θ1^{2}}{8} + \\frac{z^{2} θ1 θ2}{4} - \\frac{z^{2} θ2^{2}}{8} + 1$"
      ],
      "text/plain": [
       "225*z**6*θ1**8*θ2**4/4096 - 405*z**6*θ1**8*θ2**2/2048 + 45*z**6*θ1**8/512 + 25*z**6*θ1**6*θ2**6/1024 - 1135*z**6*θ1**6*θ2**4/2048 + 1759*z**6*θ1**6*θ2**2/1024 - 191*z**6*θ1**6/256 + 25*z**6*θ1**5*θ2**5/1024 - 45*z**6*θ1**5*θ2**3/512 + 5*z**6*θ1**5*θ2/128 + 225*z**6*θ1**4*θ2**8/4096 - 1135*z**6*θ1**4*θ2**6/2048 + 721*z**6*θ1**4*θ2**4/256 - 739*z**6*θ1**4*θ2**2/128 + 37*z**6*θ1**4/16 - 45*z**6*θ1**3*θ2**5/512 + 81*z**6*θ1**3*θ2**3/256 - 9*z**6*θ1**3*θ2/64 - 405*z**6*θ1**2*θ2**8/2048 + 1759*z**6*θ1**2*θ2**6/1024 - 739*z**6*θ1**2*θ2**4/128 + 263*z**6*θ1**2*θ2**2/32 - 47*z**6*θ1**2/16 + 5*z**6*θ1*θ2**5/128 - 9*z**6*θ1*θ2**3/64 + z**6*θ1*θ2/16 + 45*z**6*θ2**8/512 - 191*z**6*θ2**6/256 + 37*z**6*θ2**4/16 - 47*z**6*θ2**2/16 + z**6 + 45*z**5*θ1**8*θ2**2/512 - 45*z**5*θ1**8/256 + 45*z**5*θ1**6*θ2**4/256 - 337*z**5*θ1**6*θ2**2/256 + 219*z**5*θ1**6/128 + 5*z**5*θ1**5*θ2**3/128 - 5*z**5*θ1**5*θ2/64 + 45*z**5*θ1**4*θ2**6/256 - 261*z**5*θ1**4*θ2**4/128 + 455*z**5*θ1**4*θ2**2/64 - 99*z**5*θ1**4/16 + 5*z**5*θ1**3*θ2**5/128 - 9*z**5*θ1**3*θ2**3/32 + 11*z**5*θ1**3*θ2/32 + 45*z**5*θ1**2*θ2**8/512 - 337*z**5*θ1**2*θ2**6/256 + 455*z**5*θ1**2*θ2**4/64 - 493*z**5*θ1**2*θ2**2/32 + 19*z**5*θ1**2/2 - 5*z**5*θ1*θ2**5/64 + 11*z**5*θ1*θ2**3/32 - z**5*θ1*θ2/4 - 45*z**5*θ2**8/256 + 219*z**5*θ2**6/128 - 99*z**5*θ2**4/16 + 19*z**5*θ2**2/2 - 9*z**5/2 - 45*z**4*θ1**8/256 + 9*z**4*θ1**6*θ2**2/64 + 135*z**4*θ1**6/128 - 5*z**4*θ1**5*θ2/64 - 9*z**4*θ1**4*θ2**4/256 - 45*z**4*θ1**4*θ2**2/64 - 3*z**4*θ1**4/2 + z**4*θ1**3*θ2**3/16 + 5*z**4*θ1**3*θ2/32 + 9*z**4*θ1**2*θ2**6/64 - 45*z**4*θ1**2*θ2**4/64 + 157*z**4*θ1**2*θ2**2/64 - 21*z**4*θ1**2/16 - 5*z**4*θ1*θ2**5/64 + 5*z**4*θ1*θ2**3/32 - 45*z**4*θ2**8/256 + 135*z**4*θ2**6/128 - 3*z**4*θ2**4/2 - 21*z**4*θ2**2/16 + 9*z**4/4 - 7*z**3*θ1**6/16 - 9*z**3*θ1**4*θ2**2/32 + 25*z**3*θ1**4/8 - z**3*θ1**3*θ2/8 - 9*z**3*θ1**2*θ2**4/32 + 9*z**3*θ1**2*θ2**2/4 - 59*z**3*θ1**2/8 - z**3*θ1*θ2**3/8 + z**3*θ1*θ2/2 - 7*z**3*θ2**6/16 + 25*z**3*θ2**4/8 - 59*z**3*θ2**2/8 + 7*z**3 - z**2*θ1**2/8 + z**2*θ1*θ2/4 - z**2*θ2**2/8 + 1"
      ]
     },
     "execution_count": 24,
     "metadata": {},
     "output_type": "execute_result"
    }
   ],
   "source": [
    "cos_θp = expand(prod_punto_12_corte*norma_E_1*norma_E_2)\n",
    "cos_θp"
   ]
  },
  {
   "cell_type": "code",
   "execution_count": 25,
   "metadata": {},
   "outputs": [
    {
     "data": {
      "text/latex": [
       "$\\displaystyle - \\frac{z^{2} θ1^{2}}{8} + \\frac{z^{2} θ1 θ2}{4} - \\frac{z^{2} θ2^{2}}{8} + 1$"
      ],
      "text/plain": [
       "-z**2*θ1**2/8 + z**2*θ1*θ2/4 - z**2*θ2**2/8 + 1"
      ]
     },
     "execution_count": 25,
     "metadata": {},
     "output_type": "execute_result"
    }
   ],
   "source": [
    "prod_punto_12_corte = 1 + (cos_θp.coeff(z))*z + (cos_θp.coeff(z**2))*z**2\n",
    "expand(prod_punto_12_corte)"
   ]
  },
  {
   "cell_type": "markdown",
   "metadata": {},
   "source": [
    "Lo que hicimos fue quedarnos con los términos cuadráticos de las expansiones de Taylor del cociente del producto punto y el producto de las normas de los vectores. Entonces"
   ]
  },
  {
   "cell_type": "markdown",
   "metadata": {},
   "source": [
    "$$ \\cos\\theta'=\\dfrac{\\vec{E}_1(r,\\theta_1)\\cdot\\vec{E}_2(r,\\theta_2)}{E_1(r,\\theta_1)E_2(r,\\theta_2)}\\approx1-\\dfrac{z^2}{2}\\left(\\dfrac{\\theta_2-\\theta_1}{2}\\right)^2 $$"
   ]
  },
  {
   "cell_type": "markdown",
   "metadata": {},
   "source": [
    "$$ 1-\\dfrac{\\theta'^2}{2}\\approx1-\\dfrac{z^2}{2}\\left(\\dfrac{\\theta_2-\\theta_1}{2}\\right)^2 $$"
   ]
  },
  {
   "cell_type": "markdown",
   "metadata": {},
   "source": [
    "$$ \\theta'_2-\\theta'_1\\equiv\\theta'\\approx z\\,\\dfrac{\\theta_2-\\theta_1}{2}=\\dfrac{a}{r}\\,\\dfrac{\\theta}{2} $$"
   ]
  },
  {
   "cell_type": "markdown",
   "metadata": {},
   "source": [
    "$$ \\circledast $$"
   ]
  }
 ],
 "metadata": {
  "kernelspec": {
   "display_name": "Python 3",
   "language": "python",
   "name": "python3"
  },
  "language_info": {
   "codemirror_mode": {
    "name": "ipython",
    "version": 3
   },
   "file_extension": ".py",
   "mimetype": "text/x-python",
   "name": "python",
   "nbconvert_exporter": "python",
   "pygments_lexer": "ipython3",
   "version": "3.8.3"
  }
 },
 "nbformat": 4,
 "nbformat_minor": 4
}
