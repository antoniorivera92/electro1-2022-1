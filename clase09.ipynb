{
 "cells": [
  {
   "cell_type": "markdown",
   "metadata": {},
   "source": [
    "# Clase 09"
   ]
  },
  {
   "cell_type": "markdown",
   "metadata": {},
   "source": [
    "## Solución de algunos ejercicios de la Tarea 2"
   ]
  },
  {
   "cell_type": "markdown",
   "metadata": {},
   "source": [
    "<img src=\"q27-16.png\" align=\"middle\" width=\"600\">"
   ]
  },
  {
   "cell_type": "markdown",
   "metadata": {},
   "source": [
    "<img src=\"q27-21.png\" align=\"middle\" width=\"600\">"
   ]
  },
  {
   "cell_type": "markdown",
   "metadata": {},
   "source": [
    "<img src=\"f27-15.png\" align=\"middle\" width=\"600\">"
   ]
  },
  {
   "cell_type": "markdown",
   "metadata": {},
   "source": [
    "1er caso: $\\vec{p}\\parallel\\vec{E}$ (paralelos)"
   ]
  },
  {
   "cell_type": "markdown",
   "metadata": {},
   "source": [
    "$$ \\vec{\\tau}=0 $$"
   ]
  },
  {
   "cell_type": "markdown",
   "metadata": {},
   "source": [
    "$$ U=-\\vec{p}\\cdot\\vec{E}=-pE $$"
   ]
  },
  {
   "cell_type": "markdown",
   "metadata": {},
   "source": [
    "2do caso: $\\vec{p}\\parallel\\vec{E}$ (antiparalelos)"
   ]
  },
  {
   "cell_type": "markdown",
   "metadata": {},
   "source": [
    "$$ \\vec{\\tau}=0 $$"
   ]
  },
  {
   "cell_type": "markdown",
   "metadata": {},
   "source": [
    "$$ U=-\\vec{p}\\cdot\\vec{E}=+pE $$"
   ]
  },
  {
   "cell_type": "markdown",
   "metadata": {},
   "source": [
    "3er caso: hay un ángulo $\\theta$ entre $\\vec{p}$ y $\\vec{E}$"
   ]
  },
  {
   "cell_type": "markdown",
   "metadata": {},
   "source": [
    "$$ \\vec{\\tau}=\\vec{p}\\times\\vec{E} $$"
   ]
  },
  {
   "cell_type": "markdown",
   "metadata": {},
   "source": [
    "$$ \\tau=pE\\sin\\theta $$"
   ]
  },
  {
   "cell_type": "markdown",
   "metadata": {},
   "source": [
    "$$ \\tau=I\\ddot{\\theta} $$"
   ]
  },
  {
   "cell_type": "markdown",
   "metadata": {},
   "source": [
    "Entonces se obtiene algo así como el oscilador armónico."
   ]
  },
  {
   "cell_type": "markdown",
   "metadata": {},
   "source": [
    "https://en.wikipedia.org/wiki/Torque#Definition_and_relation_to_angular_momentum"
   ]
  },
  {
   "cell_type": "markdown",
   "metadata": {},
   "source": [
    "$$ \\circledast $$"
   ]
  },
  {
   "cell_type": "markdown",
   "metadata": {},
   "source": [
    "<img src=\"p27-41.png\" align=\"middle\" width=\"600\">"
   ]
  },
  {
   "cell_type": "markdown",
   "metadata": {},
   "source": [
    "(a)"
   ]
  },
  {
   "cell_type": "markdown",
   "metadata": {},
   "source": [
    "$$ \\vec{E}_1=\\dfrac{k_eq}{z^2}\\hat{z} $$"
   ]
  },
  {
   "cell_type": "markdown",
   "metadata": {},
   "source": [
    "$$ \\vec{E}_2=-\\dfrac{k_eq}{(d-z)^2}\\hat{z} $$"
   ]
  },
  {
   "cell_type": "markdown",
   "metadata": {},
   "source": [
    "$$ \\vec{E}=\\vec{E}_1+\\vec{E}_2=k_eq\\left[\\dfrac{1}{z^2}-\\dfrac{1}{(d-z)^2}\\right]\\hat{z} $$"
   ]
  },
  {
   "cell_type": "markdown",
   "metadata": {},
   "source": [
    "$$ \\dfrac{dE}{dz}=-2k_eq\\left[\\dfrac{1}{z^3}+\\dfrac{1}{(d-z)^3}\\right] $$"
   ]
  },
  {
   "cell_type": "markdown",
   "metadata": {},
   "source": [
    "$$ \\left.\\dfrac{dE}{dz}\\right|_{z=d/2}=-\\dfrac{32k_eq}{d^3}\\neq 0\\ . $$"
   ]
  },
  {
   "cell_type": "markdown",
   "metadata": {},
   "source": [
    "(b)"
   ]
  },
  {
   "cell_type": "markdown",
   "metadata": {},
   "source": [
    "Consideremos un dipolo eléctrico con momento dipolar $\\vec{p}=qd\\hat{n}$. Tenemos la carga negativa en $\\vec{r}$ y la carga positiva está en $\\vec{r}+d\\hat{n}$, donde $d$ es la distancia entre las cargas y $\\hat{n}$ el vector unitario para llegar de la carga negativa a la positiva. La fuerza total sobre el dipolo es"
   ]
  },
  {
   "cell_type": "markdown",
   "metadata": {},
   "source": [
    "$$ \\vec{F}=q[\\vec{E}(\\vec{r}+d\\hat{n})-\\vec{E}(\\vec{r})]\\ . $$"
   ]
  },
  {
   "cell_type": "markdown",
   "metadata": {},
   "source": [
    "$$ \\vec{F}=\\dfrac{p[\\vec{E}(\\vec{r}+d\\hat{n})-\\vec{E}(\\vec{r})]}{d}\\ . $$"
   ]
  },
  {
   "cell_type": "markdown",
   "metadata": {},
   "source": [
    "El dipolo es pequeño, entonces tomamos el límite:"
   ]
  },
  {
   "cell_type": "markdown",
   "metadata": {},
   "source": [
    "$$ \\vec{F}=\\lim_{d\\to0}\\dfrac{p[\\vec{E}(\\vec{r}+d\\hat{n})-\\vec{E}(\\vec{r})]}{d}\\ . $$"
   ]
  },
  {
   "cell_type": "markdown",
   "metadata": {},
   "source": [
    "$$ \\vec{F}=p\\lim_{d\\to0}\\dfrac{[\\vec{E}(\\vec{r}+d\\hat{n})-\\vec{E}(\\vec{r})]}{d}\\ . $$"
   ]
  },
  {
   "cell_type": "markdown",
   "metadata": {},
   "source": [
    "$$ \\vec{F}=p\\hat{n}\\cdot\\nabla\\vec{E}=\\vec{p}\\cdot\\nabla\\vec{E} $$"
   ]
  },
  {
   "cell_type": "markdown",
   "metadata": {},
   "source": [
    "(Esto no se me ocurrió a mí. Yo lo saqué de https://physics.stackexchange.com/questions/192120/force-acting-on-a-dipole-placed-in-a-non-uniform-electric-field)"
   ]
  },
  {
   "cell_type": "markdown",
   "metadata": {},
   "source": [
    "$$ \\circledast $$"
   ]
  }
 ],
 "metadata": {
  "kernelspec": {
   "display_name": "Julia 1.5.0",
   "language": "julia",
   "name": "julia-1.5"
  },
  "language_info": {
   "file_extension": ".jl",
   "mimetype": "application/julia",
   "name": "julia",
   "version": "1.5.0"
  }
 },
 "nbformat": 4,
 "nbformat_minor": 4
}
