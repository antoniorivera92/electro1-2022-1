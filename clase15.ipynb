{
 "cells": [
  {
   "cell_type": "markdown",
   "metadata": {},
   "source": [
    "# Clase 15"
   ]
  },
  {
   "cell_type": "markdown",
   "metadata": {},
   "source": [
    "## Solución de algunos ejercicios de la Tarea 4"
   ]
  },
  {
   "cell_type": "markdown",
   "metadata": {},
   "source": [
    "<img src=\"p29-14.png\" align=\"middle\" width=\"600\">"
   ]
  },
  {
   "cell_type": "markdown",
   "metadata": {},
   "source": [
    "<img src=\"f29-11.png\" align=\"middle\" width=\"300\">"
   ]
  },
  {
   "cell_type": "markdown",
   "metadata": {},
   "source": [
    "- **La forma de menor esfuerzo de hacerlo:**"
   ]
  },
  {
   "cell_type": "markdown",
   "metadata": {},
   "source": [
    "$$ p=qd=[10(1.6\\times10^{-19}\\ \\text{C})](0.96\\times10^{-10}\\ \\text{m}) $$"
   ]
  },
  {
   "cell_type": "code",
   "execution_count": 2,
   "metadata": {},
   "outputs": [
    {
     "data": {
      "text/plain": [
       "1.536e-28"
      ]
     },
     "execution_count": 2,
     "metadata": {},
     "output_type": "execute_result"
    }
   ],
   "source": [
    "p_chafa = 10*1.6*0.96e-29\n",
    "p_chafa"
   ]
  },
  {
   "cell_type": "markdown",
   "metadata": {},
   "source": [
    "$$ 1\\ \\text{D}=3.33564\\times10^{-30}\\ \\text{C}\\cdot\\text{m} $$"
   ]
  },
  {
   "cell_type": "code",
   "execution_count": 3,
   "metadata": {},
   "outputs": [
    {
     "data": {
      "text/plain": [
       "46.048134690793965"
      ]
     },
     "execution_count": 3,
     "metadata": {},
     "output_type": "execute_result"
    }
   ],
   "source": [
    "p_chafa/(3.33564e-30)"
   ]
  },
  {
   "cell_type": "markdown",
   "metadata": {},
   "source": [
    "* **Un cálculo un poco mejor (con la proyección):**"
   ]
  },
  {
   "cell_type": "markdown",
   "metadata": {},
   "source": [
    "$$ p=q\\ell=qd\\cos\\left(\\theta/2\\right)=[10(1.6\\times10^{-19}\\ \\text{C})](0.96\\times10^{-10}\\ \\text{m})\\cos(52^\\circ)$$"
   ]
  },
  {
   "cell_type": "code",
   "execution_count": 4,
   "metadata": {},
   "outputs": [
    {
     "data": {
      "text/plain": [
       "9.456560261002111e-29"
      ]
     },
     "execution_count": 4,
     "metadata": {},
     "output_type": "execute_result"
    }
   ],
   "source": [
    "p_chafa1 = 10*1.6*0.96e-29*cosd(52)\n",
    "p_chafa1"
   ]
  },
  {
   "cell_type": "code",
   "execution_count": 5,
   "metadata": {},
   "outputs": [
    {
     "data": {
      "text/plain": [
       "28.350062539728842"
      ]
     },
     "execution_count": 5,
     "metadata": {},
     "output_type": "execute_result"
    }
   ],
   "source": [
    "p_chafa1/(3.33564e-30)"
   ]
  },
  {
   "cell_type": "markdown",
   "metadata": {},
   "source": [
    "* **El mejor cálculo (que se le ocurrió al ayudante):**"
   ]
  },
  {
   "cell_type": "markdown",
   "metadata": {},
   "source": [
    "https://en.wikipedia.org/wiki/Electric_dipole_moment"
   ]
  },
  {
   "cell_type": "markdown",
   "metadata": {},
   "source": [
    "$$ \\mathbf {E}_1 \\left(\\mathbf {R} \\right)={\\frac {3\\left(\\mathbf {p}_1 \\cdot {\\hat {\\mathbf {R} }}\\right){\\hat {\\mathbf {R} }}-\\mathbf {p}_1 }{4\\pi \\varepsilon _{0}R^{3}}} $$"
   ]
  },
  {
   "cell_type": "markdown",
   "metadata": {},
   "source": [
    "$$ \\mathbf {E}_2 \\left(\\mathbf {R} \\right)={\\frac {3\\left(\\mathbf {p}_2 \\cdot {\\hat {\\mathbf {R} }}\\right){\\hat {\\mathbf {R} }}-\\mathbf {p}_2 }{4\\pi \\varepsilon _{0}R^{3}}} $$"
   ]
  },
  {
   "cell_type": "markdown",
   "metadata": {},
   "source": [
    "$$ \\mathbf {E} \\left(\\mathbf {R} \\right)={\\frac {3\\left(\\mathbf {p}_1 \\cdot {\\hat {\\mathbf {R} }}\\right){\\hat {\\mathbf {R} }}-\\mathbf {p}_1 }{4\\pi \\varepsilon _{0}R^{3}}}+{\\frac {3\\left(\\mathbf {p}_2 \\cdot {\\hat {\\mathbf {R} }}\\right){\\hat {\\mathbf {R} }}-\\mathbf {p}_2 }{4\\pi \\varepsilon _{0}R^{3}}} $$"
   ]
  },
  {
   "cell_type": "markdown",
   "metadata": {},
   "source": [
    "$$ ={\\frac {3\\left((\\mathbf {p}_1+\\mathbf {p}_2) \\cdot {\\hat {\\mathbf {R} }}\\right){\\hat {\\mathbf {R} }}-(\\mathbf {p}_1+\\mathbf {p}_2) }{4\\pi \\varepsilon _{0}R^{3}}} $$"
   ]
  },
  {
   "cell_type": "markdown",
   "metadata": {},
   "source": [
    "$$ \\mathbf {p} =\\sum _{i=1}^{N}\\ q_{i}\\mathbf {d_{i}} $$"
   ]
  },
  {
   "cell_type": "markdown",
   "metadata": {},
   "source": [
    "$$ p=2ed\\cos\\left(\\dfrac{\\theta}{2}\\right)=2(1.6\\times10^{-19}\\ \\text{C})(0.96\\times10^{-10}\\ \\text{m})\\cos(52^\\circ) $$"
   ]
  },
  {
   "cell_type": "code",
   "execution_count": 6,
   "metadata": {},
   "outputs": [
    {
     "data": {
      "text/plain": [
       "1.8913120522004224e-29"
      ]
     },
     "execution_count": 6,
     "metadata": {},
     "output_type": "execute_result"
    }
   ],
   "source": [
    "p_chido = 2*1.6*0.96e-29*cosd(52)\n",
    "p_chido"
   ]
  },
  {
   "cell_type": "code",
   "execution_count": 7,
   "metadata": {},
   "outputs": [
    {
     "data": {
      "text/plain": [
       "5.670012507945769"
      ]
     },
     "execution_count": 7,
     "metadata": {},
     "output_type": "execute_result"
    }
   ],
   "source": [
    "p_chido/(3.33564e-30)"
   ]
  },
  {
   "cell_type": "markdown",
   "metadata": {},
   "source": [
    "https://en.wikipedia.org/wiki/Properties_of_water\n",
    "\n",
    "https://en.wikipedia.org/wiki/Properties_of_water#Polarity_and_hydrogen_bonding\n",
    "\n",
    "https://en.wikipedia.org/wiki/Properties_of_water#cite_ref-FOOTNOTELide20039%E2%80%94Dipole_Moments_18-0"
   ]
  },
  {
   "cell_type": "markdown",
   "metadata": {},
   "source": [
    "$ p_\\text{chido}\\approx 18.9\\times10^{-30}\\ \\text{C}\\cdot\\text{m} = 5.67\\ \\text{D} $"
   ]
  },
  {
   "cell_type": "markdown",
   "metadata": {},
   "source": [
    "$ p_\\text{real}=6.1\\times10^{-30}\\ \\text{C}\\cdot\\text{m}=1.83\\ \\text{D} $"
   ]
  },
  {
   "cell_type": "markdown",
   "metadata": {},
   "source": [
    "$$ \\circledast $$"
   ]
  },
  {
   "cell_type": "markdown",
   "metadata": {},
   "source": [
    "<img src=\"p29-34.png\" align=\"middle\" width=\"600\">"
   ]
  },
  {
   "cell_type": "markdown",
   "metadata": {},
   "source": [
    "$$ [k]=\\dfrac{\\text{carga}}{\\text{longitud}^2}\\quad,\\quad[k_e]=\\dfrac{\\text{longitud}^2\\cdot\\text{fuerza}}{\\text{carga}^2}=\\dfrac{\\text{N}\\cdot\\text{m}^2}{\\text{C}^2}\\quad\\text{(en el SI)} $$"
   ]
  },
  {
   "cell_type": "markdown",
   "metadata": {},
   "source": [
    "<img src=\"f29-32.png\" align=\"middle\" width=\"250\">"
   ]
  },
  {
   "cell_type": "markdown",
   "metadata": {},
   "source": [
    "(a)"
   ]
  },
  {
   "cell_type": "markdown",
   "metadata": {},
   "source": [
    "Las coordenadas del punto $P$ son $(0,y)$."
   ]
  },
  {
   "cell_type": "markdown",
   "metadata": {},
   "source": [
    "Tendremos una carga infinitesimal sobre la varilla $ dq $ en las coordenadas $(x,0)$ donde $0\\leq x\\leq L$."
   ]
  },
  {
   "cell_type": "markdown",
   "metadata": {},
   "source": [
    "Entonces el potencial es"
   ]
  },
  {
   "cell_type": "markdown",
   "metadata": {},
   "source": [
    "$$ dV=k_e\\dfrac{dq}{\\sqrt{x^2+y^2}} $$"
   ]
  },
  {
   "cell_type": "markdown",
   "metadata": {},
   "source": [
    "$\\lambda$ es la densidad lineal de carga, $\\lambda=kx$."
   ]
  },
  {
   "cell_type": "markdown",
   "metadata": {},
   "source": [
    "El elemento diferencial de carga se puede expresar como\n",
    "$$ dq=\\lambda\\, ds=(kx)(dx) $$"
   ]
  },
  {
   "cell_type": "markdown",
   "metadata": {},
   "source": [
    "$$ \\int_{x=0}^{x=L}k_e\\dfrac{kx\\,dx}{\\sqrt{x^2+y^2}} $$"
   ]
  },
  {
   "cell_type": "markdown",
   "metadata": {},
   "source": [
    "Sustitución $u=x^2+y^2$,\n",
    "$$ \\dfrac{du}{dx}=2x$$"
   ]
  },
  {
   "cell_type": "markdown",
   "metadata": {},
   "source": [
    "$$ V(y)=k_ek\\dfrac{1}{2}\\int_{u(0)}^{u(L)}\\dfrac{du}{u^{1/2}}=\\left.k_eku^{1/2}\\right|_{u(0)}^{u(L)}=k_ek\\left(\\sqrt{L^2+y^2}-y\\right) $$"
   ]
  },
  {
   "cell_type": "markdown",
   "metadata": {},
   "source": [
    "(b)"
   ]
  },
  {
   "cell_type": "markdown",
   "metadata": {},
   "source": [
    "¿Cuál es la relación entre el campo y el potencial eléctrico?"
   ]
  },
  {
   "cell_type": "markdown",
   "metadata": {},
   "source": [
    "$$ \\vec{E}=-\\nabla V=-\\dfrac{\\partial V}{\\partial x}\\hat{x}-\\dfrac{\\partial V}{\\partial y}\\hat{y}-\\dfrac{\\partial V}{\\partial z}\\hat{z} $$"
   ]
  },
  {
   "cell_type": "markdown",
   "metadata": {},
   "source": [
    "$$ E_y = -\\dfrac{\\partial V}{\\partial y}=k_ek\\left(1-\\dfrac{y}{\\sqrt{L^2+y^2}}\\right) $$"
   ]
  },
  {
   "cell_type": "markdown",
   "metadata": {},
   "source": [
    "Ahora vamos a hacerlo directo:"
   ]
  },
  {
   "cell_type": "markdown",
   "metadata": {},
   "source": [
    "Las coordenadas del punto $P$ son $(0,y)$."
   ]
  },
  {
   "cell_type": "markdown",
   "metadata": {},
   "source": [
    "Tendremos una carga infinitesimal sobre la varilla $ dq $ en las coordenadas $(x,0)$ donde $0\\leq x\\leq L$."
   ]
  },
  {
   "cell_type": "markdown",
   "metadata": {},
   "source": [
    "Entonces el campo eléctrico es"
   ]
  },
  {
   "cell_type": "markdown",
   "metadata": {},
   "source": [
    "$$ d\\vec{E}=k_e\\dfrac{dq}{x^2+y^2}\\hat{r}=k_e\\dfrac{kx\\,dx}{(x^2+y^2)^{3/2}}(-x\\hat{x}+y\\hat{y}) $$"
   ]
  },
  {
   "cell_type": "markdown",
   "metadata": {},
   "source": [
    "La componente vertical será"
   ]
  },
  {
   "cell_type": "markdown",
   "metadata": {},
   "source": [
    "$$ E_y=k_ek\\int_{x=0}^{x=L}\\dfrac{xy\\,dx}{(x^2+y^2)^{3/2}} $$"
   ]
  },
  {
   "cell_type": "markdown",
   "metadata": {},
   "source": [
    "Sustitución $u=x^2+y^2$,\n",
    "$$ \\dfrac{du}{dx}=2x$$"
   ]
  },
  {
   "cell_type": "markdown",
   "metadata": {},
   "source": [
    "$$ E_y=k_eky\\,\\dfrac{1}{2}\\int_{u(0)}^{u(L)}\\dfrac{du}{u^{3/2}}=\\left.k_eky\\dfrac{1}{2}\\dfrac{u^{-1/2}}{-\\frac{1}{2}}\\right|_{u(0)}^{u(L)}=-\\left.k_eky\\dfrac{1}{\\sqrt{x^2+y^2}}\\right|_{0}^{L} $$"
   ]
  },
  {
   "cell_type": "markdown",
   "metadata": {},
   "source": [
    "$$ =-k_eky\\left(\\dfrac{1}{\\sqrt{L^2+y^2}}-\\dfrac{1}{\\sqrt{y^2}}\\right)=k_ek\\left(1-\\dfrac{y}{\\sqrt{L^2+y^2}}\\right) $$"
   ]
  },
  {
   "cell_type": "markdown",
   "metadata": {},
   "source": [
    "La componente horizontal será"
   ]
  },
  {
   "cell_type": "markdown",
   "metadata": {},
   "source": [
    "$$ E_x=k_ek\\int_{x=0}^{x=L}\\dfrac{x^2\\,dx}{(x^2+y^2)^{3/2}} $$"
   ]
  },
  {
   "cell_type": "markdown",
   "metadata": {},
   "source": [
    "Sustitución $x/y=\\tan\\theta$,\n",
    "$$ \\dfrac{dx}{d\\theta}=y\\sec^2\\theta$$"
   ]
  },
  {
   "cell_type": "markdown",
   "metadata": {},
   "source": [
    "$$ E_x=k_ek\\int\\dfrac{\\tan^2\\theta\\,\\sec^2\\theta\\,d\\theta}{(1+\\tan^2\\theta)^{3/2}}=k_ek\\int\\sin^2\\theta\\cos\\theta d\\theta=k_ek\\,\\dfrac{1}{3}\\left(\\dfrac{L}{\\sqrt{L^2+y^2}}\\right)^3 $$"
   ]
  },
  {
   "cell_type": "markdown",
   "metadata": {},
   "source": [
    "(c)"
   ]
  },
  {
   "cell_type": "markdown",
   "metadata": {},
   "source": [
    "¿Cuánto es\n",
    "$$ \\dfrac{d}{dx}\\int_a^bf(x)\\,dx $$\n",
    "?"
   ]
  },
  {
   "cell_type": "markdown",
   "metadata": {},
   "source": [
    "$$ \\dfrac{d}{dx}\\int_a^bf(x)\\,dx=0 $$\n",
    "porque se trata de una integral definida en límites reales. En cambio,"
   ]
  },
  {
   "cell_type": "markdown",
   "metadata": {},
   "source": [
    "$$ \\dfrac{d}{dx}\\int_a^xf(x')\\,dx'=f(x) $$"
   ]
  },
  {
   "cell_type": "markdown",
   "metadata": {},
   "source": [
    "Recordemos que $x'$ es una variable muda, es decir, al hacer la integral desaparece y, por lo tanto, podríamos cambiarla por otra variable:"
   ]
  },
  {
   "cell_type": "markdown",
   "metadata": {},
   "source": [
    "$$ \\int_a^bf(x)\\,dx=\\int_a^bf(y)\\,dy=\\int_a^bf(z)\\,dz $$"
   ]
  },
  {
   "cell_type": "markdown",
   "metadata": {},
   "source": [
    "$$ \\circledast $$"
   ]
  },
  {
   "cell_type": "markdown",
   "metadata": {},
   "source": [
    "# Repaso"
   ]
  },
  {
   "cell_type": "markdown",
   "metadata": {},
   "source": [
    "Flujo eléctrico"
   ]
  },
  {
   "cell_type": "markdown",
   "metadata": {},
   "source": [
    "$$ \\Phi_E=\\int \\vec{E}\\cdot d\\vec{S}=\\int \\vec{E}\\cdot\\hat{n}\\,dS $$"
   ]
  },
  {
   "cell_type": "markdown",
   "metadata": {},
   "source": [
    "Ley de Gauss: *El flujo a través de una superficie cerrada es proporcional a la carga neta encerrada en dicha superficie.*"
   ]
  },
  {
   "cell_type": "markdown",
   "metadata": {},
   "source": [
    "$$ \\Phi_E=\\dfrac{q_\\text{neta}}{\\varepsilon_0} $$"
   ]
  },
  {
   "cell_type": "markdown",
   "metadata": {},
   "source": [
    "$$ \\Phi_E\\equiv\\oint \\vec{E}\\cdot d\\vec{S} $$"
   ]
  },
  {
   "cell_type": "markdown",
   "metadata": {},
   "source": [
    "<img src=\"tshirt.jpeg\" align=\"middle\" width=\"300\">"
   ]
  },
  {
   "cell_type": "markdown",
   "metadata": {},
   "source": [
    "**Relación entre campo eléctrico y potencial:**"
   ]
  },
  {
   "cell_type": "markdown",
   "metadata": {},
   "source": [
    "$$ \\vec{E}(\\vec{r})=-\\nabla V(\\vec{r}) $$"
   ]
  },
  {
   "cell_type": "markdown",
   "metadata": {},
   "source": [
    "$$ V(\\vec{r})=-\\int \\vec{E}\\cdot d\\vec{r} $$"
   ]
  },
  {
   "cell_type": "markdown",
   "metadata": {},
   "source": [
    "$$ \\circledast $$"
   ]
  },
  {
   "cell_type": "markdown",
   "metadata": {},
   "source": [
    "Sugiero que revisen el sitio preguntando dudas. Hay respuestas muy interesantes:"
   ]
  },
  {
   "cell_type": "markdown",
   "metadata": {},
   "source": [
    "https://physics.stackexchange.com/"
   ]
  }
 ],
 "metadata": {
  "kernelspec": {
   "display_name": "Julia 1.5.0",
   "language": "julia",
   "name": "julia-1.5"
  },
  "language_info": {
   "file_extension": ".jl",
   "mimetype": "application/julia",
   "name": "julia",
   "version": "1.5.0"
  }
 },
 "nbformat": 4,
 "nbformat_minor": 4
}
