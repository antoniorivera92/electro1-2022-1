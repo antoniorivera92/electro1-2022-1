{
 "cells": [
  {
   "cell_type": "markdown",
   "metadata": {},
   "source": [
    "# Clase 21"
   ]
  },
  {
   "cell_type": "markdown",
   "metadata": {},
   "source": [
    "## Algunos ejercicios de la tarea 5"
   ]
  },
  {
   "cell_type": "markdown",
   "metadata": {},
   "source": [
    "<img src=\"p30-44.png\" align=\"middle\" width=\"600\">"
   ]
  },
  {
   "cell_type": "markdown",
   "metadata": {},
   "source": [
    "<img src=\"f30-29.png\" align=\"middle\" width=\"600\">"
   ]
  },
  {
   "cell_type": "markdown",
   "metadata": {},
   "source": [
    "$$ C_1=\\dfrac{\\kappa_1\\epsilon_0(A/2)}{2d}=\\dfrac{1}{4}\\dfrac{\\kappa_1\\epsilon_0A}{d} $$"
   ]
  },
  {
   "cell_type": "markdown",
   "metadata": {},
   "source": [
    "$$ C_2=\\dfrac{\\kappa_2\\epsilon_0(A/2)}{d}=\\dfrac{1}{2}\\dfrac{\\kappa_2\\epsilon_0A}{d} $$"
   ]
  },
  {
   "cell_type": "markdown",
   "metadata": {},
   "source": [
    "$$ C_3=\\dfrac{\\kappa_3\\epsilon_0(A/2)}{d}=\\dfrac{1}{2}\\dfrac{\\kappa_3\\epsilon_0A}{d} $$"
   ]
  },
  {
   "cell_type": "markdown",
   "metadata": {},
   "source": [
    "$C_1$ está en paralelo con $C_{23}$ y $C_2$ está en serie con $C_3$. Ahora, la capacitancia equivalente es "
   ]
  },
  {
   "cell_type": "markdown",
   "metadata": {},
   "source": [
    "$$ C_\\text{eq}=C_1+\\dfrac{C_2C_3}{C_2+C_3}=\\dfrac{\\epsilon_0A}{2d}\\left(\\dfrac{\\kappa_1}{2}+\\dfrac{\\kappa_2\\kappa_3}{\\kappa_2+\\kappa_3}\\right) $$"
   ]
  },
  {
   "cell_type": "markdown",
   "metadata": {},
   "source": [
    "$$ \\circledast $$"
   ]
  }
 ],
 "metadata": {
  "kernelspec": {
   "display_name": "Python 3",
   "language": "python",
   "name": "python3"
  },
  "language_info": {
   "codemirror_mode": {
    "name": "ipython",
    "version": 3
   },
   "file_extension": ".py",
   "mimetype": "text/x-python",
   "name": "python",
   "nbconvert_exporter": "python",
   "pygments_lexer": "ipython3",
   "version": "3.8.3"
  }
 },
 "nbformat": 4,
 "nbformat_minor": 4
}
